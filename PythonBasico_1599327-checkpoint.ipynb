{
 "cells": [
  {
   "cell_type": "markdown",
   "metadata": {},
   "source": [
    "# Ejercicio Básico de Prueba\n",
    "\n",
    "### Imprime \"Hola Mundo\""
   ]
  },
  {
   "cell_type": "code",
   "execution_count": 68,
   "metadata": {},
   "outputs": [
    {
     "name": "stdout",
     "output_type": "stream",
     "text": [
      "Hola Mundo\n"
     ]
    }
   ],
   "source": [
    "print(\"Hola Mundo\")"
   ]
  },
  {
   "cell_type": "markdown",
   "metadata": {},
   "source": [
    "# Ejercicio 1\n",
    "\n",
    "### Realiza una variable con tu matricula y realiza una secuencia de imprimir con tu nombre y tu matricula concatenados"
   ]
  },
  {
   "cell_type": "code",
   "execution_count": 69,
   "metadata": {},
   "outputs": [
    {
     "name": "stdout",
     "output_type": "stream",
     "text": [
      "1599327 Francisco Javier Hernandez Ortiz\n"
     ]
    }
   ],
   "source": [
    "matricula = 1599327\n",
    "print(str(matricula)+\" \"+\"Francisco Javier Hernandez Ortiz\")"
   ]
  },
  {
   "cell_type": "markdown",
   "metadata": {},
   "source": [
    "# Ejercicio 2\n",
    "\n",
    "### Pidiendo el input del usuario pide dos números y crea una pequeña calculadora con los operadores básicos de suma, resta, multiplicación, división, y exponente. Utilizando el loop de while"
   ]
  },
  {
   "cell_type": "code",
   "execution_count": 70,
   "metadata": {},
   "outputs": [
    {
     "name": "stdout",
     "output_type": "stream",
     "text": [
      "Ingrese el primer numero a operar: 10\n",
      "Ingrese el segundo numero a operar: 67\n",
      "Calculadora\n",
      "\n",
      " 1.Suma\n",
      " 2.Resta\n",
      " 3.Multiplicacion \n",
      " 4.Division\n",
      " 5.Exponente \n",
      "\n",
      "Inserte el numero que corresponda a la opción deseada: 3\n",
      "\n",
      "La multiplicacion es igual a \t670.0\n"
     ]
    }
   ],
   "source": [
    "continuar = 1\n",
    "while continuar == 1:\n",
    "    num1 = float(input(\"Ingrese el primer numero a operar: \"))\n",
    "    num2 = float(input(\"Ingrese el segundo numero a operar: \"))\n",
    "\n",
    "    op = int(input(\"Calculadora\\n\\n 1.Suma\\n 2.Resta\\n 3.Multiplicacion \\n 4.Division\\n 5.Exponente \\n\\nInserte el numero que corresponda a la opción deseada: \"))\n",
    "\n",
    "    if op == 1:\n",
    "        sum = num1 + num2\n",
    "        print(\"\\nLa suma es igual a \\t\" + str(sum))\n",
    "        continuar == 2\n",
    "\n",
    "    elif op == 2:\n",
    "        rest = num1 - num2\n",
    "        print(\"\\nLa resta es igual a \\t\" + str(rest))\n",
    "        continuar == 2\n",
    "    elif op == 3:\n",
    "        mult = num1 * num2\n",
    "        print(\"\\nLa multiplicacion es igual a \\t\" + str(mult))\n",
    "        continuar == 2\n",
    "    elif op == 4:\n",
    "        div = num1 / num2\n",
    "        print(\"\\nLa division es igual a \\t\" + str(div))\n",
    "        continuar == 2\n",
    "    elif op == 5:\n",
    "        exp = num1 ** num2\n",
    "        print(\"\\nEl exponente es igual a \\t\" + str(exp))\n",
    "        continuar == 2\n",
    "    else:\n",
    "        print(\"\\nOpcion no Valida, intenta nuevamente\")\n",
    "        continuar == 1\n",
    "    break\n",
    "    \n",
    "    \n",
    "    "
   ]
  },
  {
   "cell_type": "markdown",
   "metadata": {},
   "source": [
    "# Ejercicio 3\n",
    "\n",
    "### Con loop while o for, realiza una lista de 10 numeros multiplos de 3, y después realiza una función de loop que sume todos los números dentro del arreglo."
   ]
  },
  {
   "cell_type": "code",
   "execution_count": 71,
   "metadata": {},
   "outputs": [
    {
     "name": "stdout",
     "output_type": "stream",
     "text": [
      "[3, 6, 9, 12, 15, 18, 21, 24, 27, 30]\n",
      "165\n"
     ]
    }
   ],
   "source": [
    "listmult = []\n",
    "i = 1\n",
    "suma = 0\n",
    "for i in range(3, 33, 3):\n",
    "    listmult.append(i)\n",
    "print(listmult)\n",
    "\n",
    "for i in listmult:\n",
    "    suma = suma + i\n",
    "    \n",
    "print(suma)\n",
    "    \n",
    "\n",
    "    "
   ]
  },
  {
   "cell_type": "markdown",
   "metadata": {},
   "source": [
    "# Ejercicio 4\n",
    "\n",
    "### Con una función de if else, revisar si un número es par o es impar."
   ]
  },
  {
   "cell_type": "code",
   "execution_count": 74,
   "metadata": {},
   "outputs": [
    {
     "name": "stdout",
     "output_type": "stream",
     "text": [
      "Introduce un numero para detectar si es par o impar:\n",
      "None29\n",
      "El numero\t29\t es impar\n"
     ]
    }
   ],
   "source": [
    "num = int(input(print(\"Introduce un numero para detectar si es par o impar:\")))\n",
    "\n",
    "if num % 2 == 0:\n",
    "    print(\"El numero\"+\"\\t\"+str(num)+\"\\t es par\")\n",
    "else:\n",
    "    print(\"El numero\"+\"\\t\"+str(num)+\"\\t es impar\")"
   ]
  },
  {
   "cell_type": "markdown",
   "metadata": {},
   "source": [
    "### Revisar si un nunmero es Primo o No Primo"
   ]
  },
  {
   "cell_type": "code",
   "execution_count": 75,
   "metadata": {},
   "outputs": [
    {
     "name": "stdout",
     "output_type": "stream",
     "text": [
      "Introduce un numero para detectar si es Primo o No Primo:\n",
      "None67\n",
      "El numero\t67\t es Primo\n"
     ]
    }
   ],
   "source": [
    "num = int(input(print(\"Introduce un numero para detectar si es Primo o No Primo:\")))\n",
    "\n",
    "if num == 2 or num == 1:\n",
    "        print(\"El numero\"+\"\\t\"+str(num)+\"\\t es Primo\")\n",
    "else:     \n",
    "    for i in range(2,num):\n",
    "        if num % i == 0:\n",
    "            print(\"El numero\"+\"\\t\"+str(num)+\"\\t es No Primo\")\n",
    "            break\n",
    "        else:\n",
    "            print(\"El numero\"+\"\\t\"+str(num)+\"\\t es Primo\")\n",
    "            break"
   ]
  },
  {
   "cell_type": "markdown",
   "metadata": {},
   "source": [
    "# Ejercicio 5\n",
    "\n",
    "### Utilizando diferentes clases en python, crea una calculadora con los operadores básicos de suma, resta, multiplicación, división, y exponente."
   ]
  },
  {
   "cell_type": "code",
   "execution_count": 82,
   "metadata": {},
   "outputs": [
    {
     "data": {
      "text/plain": [
       "17"
      ]
     },
     "execution_count": 82,
     "metadata": {},
     "output_type": "execute_result"
    }
   ],
   "source": [
    "#fuente: https://tutorial.recursospython.com/clases/\n",
    "def suma(a, b):\n",
    "    return a+b\n",
    "\n",
    "\n",
    "def resta(a, b):\n",
    "    return a-b\n",
    "\n",
    "\n",
    "def division(a, b):\n",
    "    return a/b\n",
    "\n",
    "\n",
    "def multiplicacion(a, b):\n",
    "    return a*b\n",
    "\n",
    "def exponente(a, b):\n",
    "    return a**b\n",
    "\n",
    "class Operaciones:\n",
    "\n",
    "    def suma(self, a, b):\n",
    "        return a+b\n",
    "\n",
    "    def resta(self, a, b):\n",
    "        return a-b\n",
    "\n",
    "    def division(self, a, b):\n",
    "        return a/b\n",
    "\n",
    "    def multiplicacion(self, a, b):\n",
    "        return a*b\n",
    "    \n",
    "    def exponente(self, a, b):\n",
    "        return a**b\n",
    "    \n",
    "operar = Operaciones()\n",
    "operar.suma(10,7)\n"
   ]
  },
  {
   "cell_type": "markdown",
   "metadata": {},
   "source": [
    "# Tuplas\n",
    "\n",
    "### Crear una variable flotante, integer, boleana y compleja e imprimir el tipo de variable que es."
   ]
  },
  {
   "cell_type": "code",
   "execution_count": 83,
   "metadata": {},
   "outputs": [
    {
     "name": "stdout",
     "output_type": "stream",
     "text": [
      "<class 'float'>\n",
      "<class 'int'>\n",
      "<class 'bool'>\n",
      "<class 'complex'>\n"
     ]
    }
   ],
   "source": [
    "#Fuente: https://j2logo.com/python/tutorial/tipos-de-datos-basicos-de-python/\n",
    "\n",
    "vflotante = 2.3\n",
    "vinteger = 2\n",
    "vboleana = False\n",
    "vcompleja = 1+2j\n",
    "\n",
    "print(type(vflotante))\n",
    "print(type(vinteger))\n",
    "print(type(vboleana))\n",
    "print(type(vcompleja))\n"
   ]
  },
  {
   "cell_type": "markdown",
   "metadata": {},
   "source": [
    "### Crear una tupla con valores enteros imprimir el primer y ultimo valor.\n"
   ]
  },
  {
   "cell_type": "code",
   "execution_count": 85,
   "metadata": {},
   "outputs": [
    {
     "name": "stdout",
     "output_type": "stream",
     "text": [
      "El primer valor de la tupla es:\n",
      "2\n",
      "\n",
      "El ultimo valor de la tupla es:\n",
      "7\n"
     ]
    }
   ],
   "source": [
    "tuplaint = (2,5,6,9,8,7,5,6,4,7)\n",
    "\n",
    "print(\"El primer valor de la tupla es:\")\n",
    "print(tuplaint[0])\n",
    "\n",
    "print(\"\\nEl ultimo valor de la tupla es:\")\n",
    "print(tuplaint[-1])\n",
    "\n"
   ]
  },
  {
   "cell_type": "markdown",
   "metadata": {},
   "source": [
    "### Añadir 3 valores de string a la tupla."
   ]
  },
  {
   "cell_type": "code",
   "execution_count": 87,
   "metadata": {},
   "outputs": [
    {
     "name": "stdout",
     "output_type": "stream",
     "text": [
      "(2, 5, 6, 9, 8, 7, 5, 6, 4, 7, 'Hola', 'Mineria', 'Datos')\n"
     ]
    }
   ],
   "source": [
    "tuplastr = (\"Hola\",\"Mineria\",\"Datos\")\n",
    "\n",
    "tuplanueva = tuplaint + tuplastr\n",
    "\n",
    "print(tuplanueva)"
   ]
  },
  {
   "cell_type": "markdown",
   "metadata": {},
   "source": [
    "### Verificar si una variable existe dentro de la tupla."
   ]
  },
  {
   "cell_type": "code",
   "execution_count": 90,
   "metadata": {},
   "outputs": [
    {
     "data": {
      "text/plain": [
       "False"
      ]
     },
     "execution_count": 90,
     "metadata": {},
     "output_type": "execute_result"
    }
   ],
   "source": [
    "#fuente: https://recursospython.com/guias-y-manuales/listas-y-tuplas/\n",
    "\n",
    "tuplaint = (2,5,6,9,8,7,5,6,4,7)\n",
    "variableB = \"Hola\"\n",
    "\n",
    "variableB in tuplaint\n",
    "\n"
   ]
  },
  {
   "cell_type": "markdown",
   "metadata": {},
   "source": [
    "# Listas"
   ]
  },
  {
   "cell_type": "markdown",
   "metadata": {},
   "source": [
    "### Crear una lista con 40 elementos aleatorios enteros."
   ]
  },
  {
   "cell_type": "code",
   "execution_count": 91,
   "metadata": {},
   "outputs": [
    {
     "name": "stdout",
     "output_type": "stream",
     "text": [
      "lista aleatoria original\n",
      "[60, 48, 47, 32, 18, 97, 81, 73, 92, 50, 95, 2, 95, 78, 96, 33, 73, 63, 39, 5, 40, 38, 30, 49, 45, 63, 89, 4, 82, 31, 74, 39, 10, 24, 81, 32, 99, 38, 89, 95]\n"
     ]
    }
   ],
   "source": [
    "#fuente: http://lineadecodigo.com/python/numeros-aleatorios-python/\n",
    "\n",
    "from random import randint\n",
    "\n",
    "listarandom = []\n",
    "\n",
    "for i in range(40):\n",
    "    listarandom.append(randint(0,100))\n",
    "\n",
    "print(\"lista aleatoria original\")\n",
    "print(listarandom)"
   ]
  },
  {
   "cell_type": "markdown",
   "metadata": {},
   "source": [
    "### Con una funcion (def) crear dos listas nuevas a partir de la lista creada por numeros aleatorios, en la cual en una esten los elementos pares, y en la otra los elementos impares."
   ]
  },
  {
   "cell_type": "code",
   "execution_count": 92,
   "metadata": {},
   "outputs": [
    {
     "name": "stdout",
     "output_type": "stream",
     "text": [
      "\n",
      "Lista de Pares\n",
      "[60, 48, 32, 18, 92, 50, 2, 78, 96, 40, 38, 30, 4, 82, 74, 10, 24, 32, 38]\n",
      "\n",
      "Lista de Impares\n",
      "[47, 97, 81, 73, 95, 95, 33, 73, 63, 39, 5, 49, 45, 63, 89, 31, 39, 81, 99, 89, 95]\n"
     ]
    }
   ],
   "source": [
    "listpares = []\n",
    "listimpares =[]\n",
    "\n",
    "def ValidacionPar (elemento):\n",
    "    if elemento % 2 == 0:\n",
    "        opcion = 1\n",
    "    else:\n",
    "        opcion = 2\n",
    "        \n",
    "    return opcion\n",
    "\n",
    "for i in listarandom:\n",
    "    separar = ValidacionPar(i)\n",
    "    if separar == 1:\n",
    "        listpares.append(i)\n",
    "    else:\n",
    "        listimpares.append(i)\n",
    "print(\"\\nLista de Pares\")       \n",
    "print(listpares)\n",
    "print(\"\\nLista de Impares\") \n",
    "print(listimpares)"
   ]
  },
  {
   "cell_type": "markdown",
   "metadata": {},
   "source": [
    "### Crear dos variables con la longitud de ambas listas nuevas e imprimir las variables."
   ]
  },
  {
   "cell_type": "code",
   "execution_count": 93,
   "metadata": {},
   "outputs": [
    {
     "name": "stdout",
     "output_type": "stream",
     "text": [
      "\n",
      "La lista de pares contiene\t19\t elementos\n",
      "\n",
      "La lista de impares contiene\t21\t elementos\n"
     ]
    }
   ],
   "source": [
    "#fuente: https://j2logo.com/python/ordenar-una-lista-en-python/\n",
    "\n",
    "cantpares = len(listpares)\n",
    "cantimpares = len(listimpares)\n",
    "\n",
    "print(\"\\nLa lista de pares contiene\\t\"+str(cantpares)+\"\\t elementos\")\n",
    "print(\"\\nLa lista de impares contiene\\t\"+str(cantimpares)+\"\\t elementos\")"
   ]
  },
  {
   "cell_type": "markdown",
   "metadata": {},
   "source": [
    "### Ordenar los elementos de la lista par de mayor a menor, y los de la lista impar de menor a mayor."
   ]
  },
  {
   "cell_type": "code",
   "execution_count": 94,
   "metadata": {},
   "outputs": [
    {
     "name": "stdout",
     "output_type": "stream",
     "text": [
      "\n",
      "\n",
      "\n",
      "Listas de numeros Pares ordenada de mayor a menor\n",
      "\n",
      "[96, 92, 82, 78, 74, 60, 50, 48, 40, 38, 38, 32, 32, 30, 24, 18, 10, 4, 2]\n",
      "\n",
      "\n",
      "\n",
      "Listas de numeros Impares ordenada de menor a mayor\n",
      "\n",
      "[5, 31, 33, 39, 39, 45, 47, 49, 63, 63, 73, 73, 81, 81, 89, 89, 95, 95, 95, 97, 99]\n"
     ]
    }
   ],
   "source": [
    "print(\"\\n\\n\\nListas de numeros Pares ordenada de mayor a menor\\n\")\n",
    "listpares.sort(reverse = True)\n",
    "print(listpares)\n",
    "        \n",
    "print(\"\\n\\n\\nListas de numeros Impares ordenada de menor a mayor\\n\")\n",
    "listimpares.sort()\n",
    "print(listimpares)"
   ]
  },
  {
   "cell_type": "markdown",
   "metadata": {},
   "source": [
    "### Utilizar al menos cuatro de las funciones de listas en python en la lista original de 40 elementos."
   ]
  },
  {
   "cell_type": "code",
   "execution_count": 95,
   "metadata": {},
   "outputs": [
    {
     "name": "stdout",
     "output_type": "stream",
     "text": [
      "\n",
      "\n",
      "De la lista original tenemos la siguiente informacion:\n",
      "\n",
      "El Valor mas grande: \t99\n",
      "El Valor mas pequeño: \t2\n",
      "El total de datos en la lista: \t40\n",
      "La suma de los datos: \t2229\n"
     ]
    }
   ],
   "source": [
    "print(\"\\n\\nDe la lista original tenemos la siguiente informacion:\\n\")\n",
    "maximo = max(listarandom)\n",
    "minimo = min(listarandom)\n",
    "total = len(listarandom)\n",
    "suma = sum(listarandom)\n",
    "\n",
    "print(\"El Valor mas grande: \\t\"+ str(maximo))\n",
    "print(\"El Valor mas pequeño: \\t\"+ str(minimo))\n",
    "print(\"El total de datos en la lista: \\t\"+ str(total))\n",
    "print(\"La suma de los datos: \\t\"+ str(suma))"
   ]
  },
  {
   "cell_type": "markdown",
   "metadata": {},
   "source": [
    "# Diccionarios\n",
    "\n",
    "### Crear un diccionario de 6 personas que conozcas con su primer nombre y su edad."
   ]
  },
  {
   "cell_type": "code",
   "execution_count": 98,
   "metadata": {},
   "outputs": [
    {
     "name": "stdout",
     "output_type": "stream",
     "text": [
      "{'Javier': '24', 'Sandy': '23', 'Patricia': '43', 'Isela': '22', 'Kenya': '27', 'Alejandro': '20'}\n"
     ]
    }
   ],
   "source": [
    "dictamigos = {\"Javier\": \"24\", \"Sandy\": \"23\", \"Patricia\": \"43\", \"Isela\": \"22\", \"Kenya\": \"27\", \"Alejandro\": \"20\"}\n",
    "type(dictamigos)\n",
    "print(dictamigos)"
   ]
  },
  {
   "cell_type": "markdown",
   "metadata": {},
   "source": [
    "### Crear una lista con los valores de la edad y reacomodar la lista de menor a mayor valor."
   ]
  },
  {
   "cell_type": "code",
   "execution_count": 99,
   "metadata": {},
   "outputs": [
    {
     "name": "stdout",
     "output_type": "stream",
     "text": [
      "['20', '22', '23', '24', '27', '43']\n"
     ]
    }
   ],
   "source": [
    "listedades = sorted(dictamigos.values())\n",
    "\n",
    "print(listedades)"
   ]
  },
  {
   "cell_type": "markdown",
   "metadata": {},
   "source": [
    "### Usando el diccionario y un loop, imprimir solo los nombres."
   ]
  },
  {
   "cell_type": "code",
   "execution_count": 100,
   "metadata": {},
   "outputs": [
    {
     "name": "stdout",
     "output_type": "stream",
     "text": [
      "Javier\n",
      "Sandy\n",
      "Patricia\n",
      "Isela\n",
      "Kenya\n",
      "Alejandro\n"
     ]
    }
   ],
   "source": [
    "for nombre in dictamigos:\n",
    "    print(nombre)"
   ]
  },
  {
   "cell_type": "markdown",
   "metadata": {},
   "source": [
    "### Añadir dos personas nuevas a tu diccionario, incluyendo edad."
   ]
  },
  {
   "cell_type": "code",
   "execution_count": 101,
   "metadata": {},
   "outputs": [
    {
     "name": "stdout",
     "output_type": "stream",
     "text": [
      "{'Javier': '24', 'Sandy': '23', 'Patricia': '43', 'Isela': '22', 'Kenya': '27', 'Alejandro': '20', 'Edson': '18', 'Patricio': '10'}\n"
     ]
    }
   ],
   "source": [
    "dictamigos['Edson'] = \"18\"\n",
    "dictamigos['Patricio'] = \"10\"\n",
    "\n",
    "print(dictamigos)\n"
   ]
  },
  {
   "cell_type": "markdown",
   "metadata": {},
   "source": [
    "### Crea un set con 100 numeros aleatorios enteros del 1 al 25."
   ]
  },
  {
   "cell_type": "code",
   "execution_count": 128,
   "metadata": {},
   "outputs": [
    {
     "name": "stdout",
     "output_type": "stream",
     "text": [
      "lista aleatoria original\n",
      "{1, 2, 3, 4, 5, 6, 7, 8, 9, 10, 11, 12, 13, 14, 15, 16, 17, 18, 19, 20, 22, 23, 24, 25}\n"
     ]
    }
   ],
   "source": [
    "#fuente: http://lineadecodigo.com/python/numeros-aleatorios-python/\n",
    "\n",
    "from random import randint\n",
    "\n",
    "setnumrandom = set()\n",
    "\n",
    "for i in range(100):\n",
    "    setnumrandom.add(randint(1,25))\n",
    "\n",
    "print(\"lista aleatoria original\")\n",
    "print(setnumrandom)\n",
    "\n"
   ]
  },
  {
   "cell_type": "markdown",
   "metadata": {},
   "source": [
    "### Comprueba la longitud de tu set."
   ]
  },
  {
   "cell_type": "code",
   "execution_count": 129,
   "metadata": {},
   "outputs": [
    {
     "name": "stdout",
     "output_type": "stream",
     "text": [
      "24\n"
     ]
    }
   ],
   "source": [
    "longdelset = len(setnumrandom)\n",
    "print(longdelset)"
   ]
  },
  {
   "cell_type": "markdown",
   "metadata": {},
   "source": [
    "### Crea una lista de 5 numeros aleatorios del 1 al 10 y comprueba si cada valor aparece en el set inicial."
   ]
  },
  {
   "cell_type": "code",
   "execution_count": 130,
   "metadata": {},
   "outputs": [
    {
     "name": "stdout",
     "output_type": "stream",
     "text": [
      "[3, 4, 2, 10, 8]\n",
      "\n",
      "\n",
      "El dato\t 3 \tse encuentra en el Set principal\n",
      "\n",
      "\n",
      "El dato\t 4 \tse encuentra en el Set principal\n",
      "\n",
      "\n",
      "El dato\t 2 \tse encuentra en el Set principal\n",
      "\n",
      "\n",
      "El dato\t 10 \tse encuentra en el Set principal\n",
      "\n",
      "\n",
      "El dato\t 8 \tse encuentra en el Set principal\n"
     ]
    }
   ],
   "source": [
    "from random import randint\n",
    "\n",
    "listanueva = []\n",
    "\n",
    "for i in range(5):\n",
    "    listanueva.append(randint(1,10))\n",
    "    \n",
    "print(listanueva)\n",
    "\n",
    "for i in range(5):\n",
    "    avanzar = listanueva[i] in setnumrandom\n",
    "    if avanzar == True:\n",
    "        print(\"\\n\\nEl dato\\t\",listanueva[i], \"\\tse encuentra en el Set principal\")\n",
    "    else:\n",
    "        print(\"El dato\\t\",listanueva[i], \"\\t no se encuentra en el Set principal\")\n",
    "    "
   ]
  }
 ],
 "metadata": {
  "kernelspec": {
   "display_name": "Python 3",
   "language": "python",
   "name": "python3"
  },
  "language_info": {
   "codemirror_mode": {
    "name": "ipython",
    "version": 3
   },
   "file_extension": ".py",
   "mimetype": "text/x-python",
   "name": "python",
   "nbconvert_exporter": "python",
   "pygments_lexer": "ipython3",
   "version": "3.8.3"
  }
 },
 "nbformat": 4,
 "nbformat_minor": 4
}
