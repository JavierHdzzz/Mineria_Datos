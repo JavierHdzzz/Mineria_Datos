{
 "cells": [
  {
   "cell_type": "code",
   "execution_count": 6,
   "metadata": {},
   "outputs": [
    {
     "name": "stderr",
     "output_type": "stream",
     "text": [
      "C:\\Users\\86453\\anaconda3\\lib\\site-packages\\IPython\\core\\interactiveshell.py:3071: DtypeWarning: Columns (16) have mixed types.Specify dtype option on import or set low_memory=False.\n",
      "  has_raised = await self.run_ast_nodes(code_ast.body, cell_name,\n"
     ]
    }
   ],
   "source": [
    "import pandas as pd\n",
    "import numpy as np\n",
    "import matplotlib.pyplot as plt\n",
    "import seaborn as sns\n",
    "\n",
    "\n",
    "df = pd.read_csv(\"homicidios.csv\", na_values=\"Unknown\")"
   ]
  },
  {
   "cell_type": "code",
   "execution_count": 7,
   "metadata": {},
   "outputs": [
    {
     "data": {
      "text/plain": [
       "Index(['Record ID', 'Agency Code', 'Agency Name', 'Agency Type', 'City',\n",
       "       'State', 'Year', 'Month', 'Incident', 'Crime Type', 'Crime Solved',\n",
       "       'Victim Sex', 'Victim Age', 'Victim Race', 'Victim Ethnicity',\n",
       "       'Perpetrator Sex', 'Perpetrator Age', 'Perpetrator Race',\n",
       "       'Perpetrator Ethnicity', 'Relationship', 'Weapon', 'Victim Count',\n",
       "       'Perpetrator Count', 'Record Source'],\n",
       "      dtype='object')"
      ]
     },
     "execution_count": 7,
     "metadata": {},
     "output_type": "execute_result"
    }
   ],
   "source": [
    "df.columns"
   ]
  },
  {
   "cell_type": "markdown",
   "metadata": {},
   "source": [
    "# Información estadística básica"
   ]
  },
  {
   "cell_type": "markdown",
   "metadata": {},
   "source": [
    "### Conteo de los elementos de la columna seleccionada."
   ]
  },
  {
   "cell_type": "code",
   "execution_count": 9,
   "metadata": {},
   "outputs": [
    {
     "data": {
      "text/plain": [
       "638454"
      ]
     },
     "execution_count": 9,
     "metadata": {},
     "output_type": "execute_result"
    }
   ],
   "source": [
    "df['Record ID'].count()"
   ]
  },
  {
   "cell_type": "markdown",
   "metadata": {},
   "source": [
    "### Minimo de la columna seleccionada\n",
    "\n",
    "#### Esta prueba nos dara la edad de la victima más pequeña"
   ]
  },
  {
   "cell_type": "code",
   "execution_count": 10,
   "metadata": {},
   "outputs": [
    {
     "data": {
      "text/plain": [
       "0"
      ]
     },
     "execution_count": 10,
     "metadata": {},
     "output_type": "execute_result"
    }
   ],
   "source": [
    "df['Victim Age'].min()"
   ]
  },
  {
   "cell_type": "markdown",
   "metadata": {},
   "source": [
    "### Máximo de la columna seleccionada\n",
    "\n",
    "#### Esta prueba nos dara la edad de la victima más grande"
   ]
  },
  {
   "cell_type": "code",
   "execution_count": 11,
   "metadata": {},
   "outputs": [
    {
     "data": {
      "text/plain": [
       "998"
      ]
     },
     "execution_count": 11,
     "metadata": {},
     "output_type": "execute_result"
    }
   ],
   "source": [
    "df['Victim Age'].max()"
   ]
  },
  {
   "cell_type": "markdown",
   "metadata": {},
   "source": [
    "### Estadistica de la columna Edad"
   ]
  },
  {
   "cell_type": "code",
   "execution_count": 12,
   "metadata": {},
   "outputs": [
    {
     "data": {
      "text/plain": [
       "count    638454.000000\n",
       "mean         35.033512\n",
       "std          41.628306\n",
       "min           0.000000\n",
       "25%          22.000000\n",
       "50%          30.000000\n",
       "75%          42.000000\n",
       "max         998.000000\n",
       "Name: Victim Age, dtype: float64"
      ]
     },
     "execution_count": 12,
     "metadata": {},
     "output_type": "execute_result"
    }
   ],
   "source": [
    "df['Victim Age'].describe()"
   ]
  },
  {
   "cell_type": "markdown",
   "metadata": {},
   "source": [
    "### Correlación y Covarianza"
   ]
  },
  {
   "cell_type": "code",
   "execution_count": 12,
   "metadata": {},
   "outputs": [
    {
     "data": {
      "text/html": [
       "<div>\n",
       "<style scoped>\n",
       "    .dataframe tbody tr th:only-of-type {\n",
       "        vertical-align: middle;\n",
       "    }\n",
       "\n",
       "    .dataframe tbody tr th {\n",
       "        vertical-align: top;\n",
       "    }\n",
       "\n",
       "    .dataframe thead th {\n",
       "        text-align: right;\n",
       "    }\n",
       "</style>\n",
       "<table border=\"1\" class=\"dataframe\">\n",
       "  <thead>\n",
       "    <tr style=\"text-align: right;\">\n",
       "      <th></th>\n",
       "      <th>Record ID</th>\n",
       "      <th>Year</th>\n",
       "      <th>Incident</th>\n",
       "      <th>Victim Age</th>\n",
       "      <th>Victim Count</th>\n",
       "      <th>Perpetrator Count</th>\n",
       "    </tr>\n",
       "  </thead>\n",
       "  <tbody>\n",
       "    <tr>\n",
       "      <th>Record ID</th>\n",
       "      <td>1.000000</td>\n",
       "      <td>0.997286</td>\n",
       "      <td>0.116943</td>\n",
       "      <td>0.004774</td>\n",
       "      <td>0.026973</td>\n",
       "      <td>0.056755</td>\n",
       "    </tr>\n",
       "    <tr>\n",
       "      <th>Year</th>\n",
       "      <td>0.997286</td>\n",
       "      <td>1.000000</td>\n",
       "      <td>0.124125</td>\n",
       "      <td>0.005514</td>\n",
       "      <td>0.026765</td>\n",
       "      <td>0.055959</td>\n",
       "    </tr>\n",
       "    <tr>\n",
       "      <th>Incident</th>\n",
       "      <td>0.116943</td>\n",
       "      <td>0.124125</td>\n",
       "      <td>1.000000</td>\n",
       "      <td>-0.006918</td>\n",
       "      <td>0.001781</td>\n",
       "      <td>0.001951</td>\n",
       "    </tr>\n",
       "    <tr>\n",
       "      <th>Victim Age</th>\n",
       "      <td>0.004774</td>\n",
       "      <td>0.005514</td>\n",
       "      <td>-0.006918</td>\n",
       "      <td>1.000000</td>\n",
       "      <td>-0.008047</td>\n",
       "      <td>-0.017289</td>\n",
       "    </tr>\n",
       "    <tr>\n",
       "      <th>Victim Count</th>\n",
       "      <td>0.026973</td>\n",
       "      <td>0.026765</td>\n",
       "      <td>0.001781</td>\n",
       "      <td>-0.008047</td>\n",
       "      <td>1.000000</td>\n",
       "      <td>0.067284</td>\n",
       "    </tr>\n",
       "    <tr>\n",
       "      <th>Perpetrator Count</th>\n",
       "      <td>0.056755</td>\n",
       "      <td>0.055959</td>\n",
       "      <td>0.001951</td>\n",
       "      <td>-0.017289</td>\n",
       "      <td>0.067284</td>\n",
       "      <td>1.000000</td>\n",
       "    </tr>\n",
       "  </tbody>\n",
       "</table>\n",
       "</div>"
      ],
      "text/plain": [
       "                   Record ID      Year  Incident  Victim Age  Victim Count  \\\n",
       "Record ID           1.000000  0.997286  0.116943    0.004774      0.026973   \n",
       "Year                0.997286  1.000000  0.124125    0.005514      0.026765   \n",
       "Incident            0.116943  0.124125  1.000000   -0.006918      0.001781   \n",
       "Victim Age          0.004774  0.005514 -0.006918    1.000000     -0.008047   \n",
       "Victim Count        0.026973  0.026765  0.001781   -0.008047      1.000000   \n",
       "Perpetrator Count   0.056755  0.055959  0.001951   -0.017289      0.067284   \n",
       "\n",
       "                   Perpetrator Count  \n",
       "Record ID                   0.056755  \n",
       "Year                        0.055959  \n",
       "Incident                    0.001951  \n",
       "Victim Age                 -0.017289  \n",
       "Victim Count                0.067284  \n",
       "Perpetrator Count           1.000000  "
      ]
     },
     "execution_count": 12,
     "metadata": {},
     "output_type": "execute_result"
    }
   ],
   "source": [
    "df.corr()"
   ]
  },
  {
   "cell_type": "code",
   "execution_count": 16,
   "metadata": {},
   "outputs": [
    {
     "data": {
      "text/html": [
       "<div>\n",
       "<style scoped>\n",
       "    .dataframe tbody tr th:only-of-type {\n",
       "        vertical-align: middle;\n",
       "    }\n",
       "\n",
       "    .dataframe tbody tr th {\n",
       "        vertical-align: top;\n",
       "    }\n",
       "\n",
       "    .dataframe thead th {\n",
       "        text-align: right;\n",
       "    }\n",
       "</style>\n",
       "<table border=\"1\" class=\"dataframe\">\n",
       "  <thead>\n",
       "    <tr style=\"text-align: right;\">\n",
       "      <th></th>\n",
       "      <th>Record ID</th>\n",
       "      <th>Year</th>\n",
       "      <th>Incident</th>\n",
       "      <th>Victim Age</th>\n",
       "      <th>Victim Count</th>\n",
       "      <th>Perpetrator Count</th>\n",
       "    </tr>\n",
       "  </thead>\n",
       "  <tbody>\n",
       "    <tr>\n",
       "      <th>Record ID</th>\n",
       "      <td>3.396868e+10</td>\n",
       "      <td>1.824767e+06</td>\n",
       "      <td>1.986130e+06</td>\n",
       "      <td>36624.204765</td>\n",
       "      <td>2673.189131</td>\n",
       "      <td>6124.463152</td>\n",
       "    </tr>\n",
       "    <tr>\n",
       "      <th>Year</th>\n",
       "      <td>1.824767e+06</td>\n",
       "      <td>9.855909e+01</td>\n",
       "      <td>1.135543e+02</td>\n",
       "      <td>2.278643</td>\n",
       "      <td>0.142886</td>\n",
       "      <td>0.325266</td>\n",
       "    </tr>\n",
       "    <tr>\n",
       "      <th>Incident</th>\n",
       "      <td>1.986130e+06</td>\n",
       "      <td>1.135543e+02</td>\n",
       "      <td>8.491589e+03</td>\n",
       "      <td>-26.538030</td>\n",
       "      <td>0.088271</td>\n",
       "      <td>0.105274</td>\n",
       "    </tr>\n",
       "    <tr>\n",
       "      <th>Victim Age</th>\n",
       "      <td>3.662420e+04</td>\n",
       "      <td>2.278643e+00</td>\n",
       "      <td>-2.653803e+01</td>\n",
       "      <td>1732.915859</td>\n",
       "      <td>-0.180129</td>\n",
       "      <td>-0.421378</td>\n",
       "    </tr>\n",
       "    <tr>\n",
       "      <th>Victim Count</th>\n",
       "      <td>2.673189e+03</td>\n",
       "      <td>1.428857e-01</td>\n",
       "      <td>8.827080e-02</td>\n",
       "      <td>-0.180129</td>\n",
       "      <td>0.289157</td>\n",
       "      <td>0.021184</td>\n",
       "    </tr>\n",
       "    <tr>\n",
       "      <th>Perpetrator Count</th>\n",
       "      <td>6.124463e+03</td>\n",
       "      <td>3.252660e-01</td>\n",
       "      <td>1.052735e-01</td>\n",
       "      <td>-0.421378</td>\n",
       "      <td>0.021184</td>\n",
       "      <td>0.342805</td>\n",
       "    </tr>\n",
       "  </tbody>\n",
       "</table>\n",
       "</div>"
      ],
      "text/plain": [
       "                      Record ID          Year      Incident    Victim Age  \\\n",
       "Record ID          3.396868e+10  1.824767e+06  1.986130e+06  36624.204765   \n",
       "Year               1.824767e+06  9.855909e+01  1.135543e+02      2.278643   \n",
       "Incident           1.986130e+06  1.135543e+02  8.491589e+03    -26.538030   \n",
       "Victim Age         3.662420e+04  2.278643e+00 -2.653803e+01   1732.915859   \n",
       "Victim Count       2.673189e+03  1.428857e-01  8.827080e-02     -0.180129   \n",
       "Perpetrator Count  6.124463e+03  3.252660e-01  1.052735e-01     -0.421378   \n",
       "\n",
       "                   Victim Count  Perpetrator Count  \n",
       "Record ID           2673.189131        6124.463152  \n",
       "Year                   0.142886           0.325266  \n",
       "Incident               0.088271           0.105274  \n",
       "Victim Age            -0.180129          -0.421378  \n",
       "Victim Count           0.289157           0.021184  \n",
       "Perpetrator Count      0.021184           0.342805  "
      ]
     },
     "execution_count": 16,
     "metadata": {},
     "output_type": "execute_result"
    }
   ],
   "source": [
    "df.cov()"
   ]
  },
  {
   "cell_type": "markdown",
   "metadata": {},
   "source": [
    "# Graficar datos univariantes"
   ]
  },
  {
   "cell_type": "code",
   "execution_count": 18,
   "metadata": {},
   "outputs": [
    {
     "data": {
      "text/plain": [
       "<matplotlib.axes._subplots.AxesSubplot at 0x17a6864f0d0>"
      ]
     },
     "execution_count": 18,
     "metadata": {},
     "output_type": "execute_result"
    },
    {
     "data": {
      "image/png": "[encoded data removed]",
      "text/plain": [
       "<Figure size 432x288 with 1 Axes>"
      ]
     },
     "metadata": {
      "needs_background": "light"
     },
     "output_type": "display_data"
    }
   ],
   "source": [
    "df['State'].value_counts().plot.bar()"
   ]
  },
  {
   "cell_type": "code",
   "execution_count": 19,
   "metadata": {},
   "outputs": [
    {
     "data": {
      "text/plain": [
       "<matplotlib.axes._subplots.AxesSubplot at 0x17a68113b80>"
      ]
     },
     "execution_count": 19,
     "metadata": {},
     "output_type": "execute_result"
    },
    {
     "data": {
      "image/png": "[encoded data removed]",
      "text/plain": [
       "<Figure size 432x288 with 1 Axes>"
      ]
     },
     "metadata": {
      "needs_background": "light"
     },
     "output_type": "display_data"
    }
   ],
   "source": [
    "df['State'].value_counts().head(10).plot.bar()"
   ]
  },
  {
   "cell_type": "code",
   "execution_count": 23,
   "metadata": {},
   "outputs": [
    {
     "data": {
      "text/plain": [
       "<matplotlib.axes._subplots.AxesSubplot at 0x17a686cd670>"
      ]
     },
     "execution_count": 23,
     "metadata": {},
     "output_type": "execute_result"
    },
    {
     "data": {
      "image/png": "[encoded data removed]",
      "text/plain": [
       "<Figure size 432x288 with 1 Axes>"
      ]
     },
     "metadata": {
      "needs_background": "light"
     },
     "output_type": "display_data"
    }
   ],
   "source": [
    "df['Victim Age'].value_counts().sort_index().plot.bar()"
   ]
  },
  {
   "cell_type": "code",
   "execution_count": 27,
   "metadata": {},
   "outputs": [
    {
     "data": {
      "text/plain": [
       "<matplotlib.axes._subplots.AxesSubplot at 0x17a0042b6a0>"
      ]
     },
     "execution_count": 27,
     "metadata": {},
     "output_type": "execute_result"
    },
    {
     "data": {
      "image/png": "[encoded data removed]",
      "text/plain": [
       "<Figure size 432x288 with 1 Axes>"
      ]
     },
     "metadata": {
      "needs_background": "light"
     },
     "output_type": "display_data"
    }
   ],
   "source": [
    "df['Victim Age'].value_counts().head(30).sort_index().plot.bar()"
   ]
  },
  {
   "cell_type": "code",
   "execution_count": 28,
   "metadata": {},
   "outputs": [
    {
     "data": {
      "text/plain": [
       "<matplotlib.axes._subplots.AxesSubplot at 0x17a003b5fa0>"
      ]
     },
     "execution_count": 28,
     "metadata": {},
     "output_type": "execute_result"
    },
    {
     "data": {
      "image/png": "[encoded data removed]",
      "text/plain": [
       "<Figure size 432x288 with 1 Axes>"
      ]
     },
     "metadata": {
      "needs_background": "light"
     },
     "output_type": "display_data"
    }
   ],
   "source": [
    "\n",
    "df['Year'].value_counts().sort_index().plot.line()"
   ]
  },
  {
   "cell_type": "code",
   "execution_count": 29,
   "metadata": {},
   "outputs": [
    {
     "data": {
      "text/plain": [
       "<matplotlib.axes._subplots.AxesSubplot at 0x17a0052c220>"
      ]
     },
     "execution_count": 29,
     "metadata": {},
     "output_type": "execute_result"
    },
    {
     "data": {
      "image/png": "[encoded data removed]",
      "text/plain": [
       "<Figure size 432x288 with 1 Axes>"
      ]
     },
     "metadata": {
      "needs_background": "light"
     },
     "output_type": "display_data"
    }
   ],
   "source": [
    "df['Year'].value_counts().plot.bar()"
   ]
  },
  {
   "cell_type": "markdown",
   "metadata": {},
   "source": [
    "# Histogramas"
   ]
  },
  {
   "cell_type": "code",
   "execution_count": 32,
   "metadata": {},
   "outputs": [
    {
     "data": {
      "text/plain": [
       "<matplotlib.axes._subplots.AxesSubplot at 0x17a0062c9d0>"
      ]
     },
     "execution_count": 32,
     "metadata": {},
     "output_type": "execute_result"
    },
    {
     "data": {
      "image/png": "[encoded data removed]",
      "text/plain": [
       "<Figure size 432x288 with 1 Axes>"
      ]
     },
     "metadata": {
      "needs_background": "light"
     },
     "output_type": "display_data"
    }
   ],
   "source": [
    "df['Year'].plot.hist()"
   ]
  }
 ],
 "metadata": {
  "kernelspec": {
   "display_name": "Python 3",
   "language": "python",
   "name": "python3"
  },
  "language_info": {
   "codemirror_mode": {
    "name": "ipython",
    "version": 3
   },
   "file_extension": ".py",
   "mimetype": "text/x-python",
   "name": "python",
   "nbconvert_exporter": "python",
   "pygments_lexer": "ipython3",
   "version": "3.8.3"
  }
 },
 "nbformat": 4,
 "nbformat_minor": 4
}
